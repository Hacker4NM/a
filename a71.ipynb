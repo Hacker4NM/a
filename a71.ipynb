{
 "cells": [
  {
   "cell_type": "code",
   "execution_count": 1,
   "id": "06995036",
   "metadata": {},
   "outputs": [],
   "source": [
    "import numpy as np\n",
    "import pandas as pd\n",
    "import matplotlib.pyplot as plt"
   ]
  },
  {
   "cell_type": "code",
   "execution_count": 2,
   "id": "86039f96",
   "metadata": {},
   "outputs": [
    {
     "name": "stdout",
     "output_type": "stream",
     "text": [
      "[-6.11973959  8.48492679 -1.62853134]\n"
     ]
    }
   ],
   "source": [
    "np.random.seed(0)\n",
    "x = 2 - 3 * np.random.normal(0, 1, 20)\n",
    "y = x - 2 * (x ** 2) + 0.5 * (x ** 3) + np.random.normal(-3, 3, 20)\n",
    "df = pd.DataFrame({'Y':y,'X':x})\n",
    "df.insert(0,'B0',1)\n",
    "df.insert(3,'X2',x*x)\n",
    "X = df.drop('Y',axis=1)\n",
    "X = X.values\n",
    "y = df['Y'].values\n",
    "Xt = X.T\n",
    "XtX = np.dot(Xt,X)\n",
    "XtXInv=np.linalg.inv(XtX)\n",
    "Xty = np.dot(Xt,y)\n",
    "BHAT = np.dot(XtXInv,Xty)\n",
    "print(BHAT)"
   ]
  },
  {
   "cell_type": "code",
   "execution_count": 3,
   "id": "6d06f95d",
   "metadata": {},
   "outputs": [
    {
     "data": {
      "image/png": "[encoded data removed]",
      "text/plain": [
       "<Figure size 640x480 with 1 Axes>"
      ]
     },
     "metadata": {},
     "output_type": "display_data"
    }
   ],
   "source": [
    "n = len(X)\n",
    "plt.scatter(df['X'],y,s=10)\n",
    "plt.scatter(df['X2'],y,s=10)\n",
    "plt.show()"
   ]
  },
  {
   "cell_type": "code",
   "execution_count": 4,
   "id": "be0bc04f",
   "metadata": {},
   "outputs": [
    {
     "name": "stdout",
     "output_type": "stream",
     "text": [
      "Root Mean Square Error:\n",
      " 0     45.758538\n",
      "1     29.939140\n",
      "2     26.488588\n",
      "3     73.097580\n",
      "4     50.875530\n",
      "5     28.468559\n",
      "6     26.465431\n",
      "7     32.737460\n",
      "8     32.675766\n",
      "9     29.852716\n",
      "10    31.758314\n",
      "11    33.713229\n",
      "12    27.076725\n",
      "13    31.880100\n",
      "14    29.573961\n",
      "15    30.473006\n",
      "16    34.958345\n",
      "17    32.759231\n",
      "18    30.631474\n",
      "19    29.516097\n",
      "dtype: float64\n"
     ]
    }
   ],
   "source": [
    "rmse = 0\n",
    "for i in range(n):\n",
    "    y_pred = BHAT[0] + BHAT[1]*df['X'] + BHAT[2]*df['X2']\n",
    "    rmse += (y[i] - y_pred)**2\n",
    "rmse = np.sqrt(rmse/n)\n",
    "print(\"Root Mean Square Error:\\n\",rmse)"
   ]
  },
  {
   "cell_type": "code",
   "execution_count": 5,
   "id": "2a953e5f",
   "metadata": {},
   "outputs": [
    {
     "name": "stdout",
     "output_type": "stream",
     "text": [
      "R2 Score:\n",
      " 0    -1.989495\n",
      "1    -0.279771\n",
      "2    -0.001777\n",
      "3    -6.628859\n",
      "4    -2.695485\n",
      "5    -0.157136\n",
      "6    -0.000027\n",
      "7    -0.530184\n",
      "8    -0.524422\n",
      "9    -0.272393\n",
      "10   -0.440020\n",
      "11   -0.622760\n",
      "12   -0.046757\n",
      "13   -0.451085\n",
      "14   -0.248742\n",
      "15   -0.325819\n",
      "16   -0.744839\n",
      "17   -0.532220\n",
      "18   -0.339644\n",
      "19   -0.243860\n",
      "dtype: float64\n"
     ]
    }
   ],
   "source": [
    "mean_y = np.mean(y)\n",
    "ss_tot = 0\n",
    "ss_res = 0\n",
    "for i in range(n):\n",
    "    y_pred = BHAT[0] + BHAT[1] * df['X'] + BHAT[2] * df['X2']\n",
    "    ss_tot += (y[i] - mean_y)**2\n",
    "    ss_res += (y[i] - y_pred)**2\n",
    "r2 = 1-(ss_res/ss_tot)\n",
    "print(\"R2 Score:\\n\",r2)"
   ]
  },
  {
   "cell_type": "code",
   "execution_count": 6,
   "id": "0e4905c9",
   "metadata": {},
   "outputs": [
    {
     "name": "stdout",
     "output_type": "stream",
     "text": [
      "Enter the value for X:50\n",
      "-3653.201760604349\n"
     ]
    }
   ],
   "source": [
    "x_new = float(input(\"Enter the value for X:\"))\n",
    "print(BHAT[0] + BHAT[1] * x_new + BHAT[2] * (x_new**2))"
   ]
  }
 ],
 "metadata": {
  "kernelspec": {
   "display_name": "Python 3 (ipykernel)",
   "language": "python",
   "name": "python3"
  },
  "language_info": {
   "codemirror_mode": {
    "name": "ipython",
    "version": 3
   },
   "file_extension": ".py",
   "mimetype": "text/x-python",
   "name": "python",
   "nbconvert_exporter": "python",
   "pygments_lexer": "ipython3",
   "version": "3.10.6"
  }
 },
 "nbformat": 4,
 "nbformat_minor": 5
}
