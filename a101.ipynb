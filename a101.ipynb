{
 "cells": [
  {
   "cell_type": "code",
   "execution_count": 1,
   "id": "3b5bc28f",
   "metadata": {},
   "outputs": [],
   "source": [
    "import numpy as np\n",
    "import pandas as pd"
   ]
  },
  {
   "cell_type": "code",
   "execution_count": 2,
   "id": "ceda608b",
   "metadata": {},
   "outputs": [],
   "source": [
    "s1 = [1,0]\n",
    "s2 = [3,1]\n",
    "s3 = [3,-1]\n",
    "s1.append(1)\n",
    "s2.append(1)\n",
    "s3.append(1)"
   ]
  },
  {
   "cell_type": "code",
   "execution_count": 3,
   "id": "6d11a2f8",
   "metadata": {},
   "outputs": [
    {
     "name": "stdout",
     "output_type": "stream",
     "text": [
      "Transpose\n",
      "[1 0 1]\n",
      "[3 1 1]\n",
      "[ 3 -1  1]\n"
     ]
    }
   ],
   "source": [
    "s1t=np.transpose(s1)\n",
    "s2t=np.transpose(s2)\n",
    "s3t=np.transpose(s3)\n",
    "print(\"Transpose\")\n",
    "print(s1t)\n",
    "print(s2t)\n",
    "print(s3t)"
   ]
  },
  {
   "cell_type": "code",
   "execution_count": 4,
   "id": "4a09d10a",
   "metadata": {},
   "outputs": [],
   "source": [
    "s1ts1=np.dot(s1t,s1)\n",
    "s1ts2=np.dot(s1t,s2)\n",
    "s1ts3=np.dot(s1t,s3)\n",
    "s2ts1=np.dot(s2t,s1)\n",
    "s2ts2=np.dot(s2t,s2)\n",
    "s2ts3=np.dot(s2t,s3)\n",
    "s3ts1=np.dot(s3t,s1)\n",
    "s3ts2=np.dot(s3t,s2)\n",
    "s3ts3=np.dot(s3t,s3)"
   ]
  },
  {
   "cell_type": "code",
   "execution_count": 5,
   "id": "ef126774",
   "metadata": {},
   "outputs": [],
   "source": [
    "x=np.array([[s1ts1,s1ts2,s1ts3],[s2ts1,s2ts2,s2ts3],[s3ts1,s3ts2,s3ts3]])"
   ]
  },
  {
   "cell_type": "code",
   "execution_count": 6,
   "id": "348467d8",
   "metadata": {},
   "outputs": [],
   "source": [
    "xt=np.transpose(x)\n",
    "xtx=np.dot(xt,x)\n",
    "xtxi=np.linalg.inv(xtx)"
   ]
  },
  {
   "cell_type": "code",
   "execution_count": 7,
   "id": "fda1b127",
   "metadata": {},
   "outputs": [],
   "source": [
    "y=np.array([-1,1,1])\n",
    "xty=np.dot(xt,y)\n",
    "bhat=np.dot(xtxi,xty)"
   ]
  },
  {
   "cell_type": "code",
   "execution_count": 8,
   "id": "fe6d6cc6",
   "metadata": {},
   "outputs": [
    {
     "name": "stdout",
     "output_type": "stream",
     "text": [
      "\n",
      "w [ 1.0000000e+00  4.4408921e-16 -2.0000000e+00]\n"
     ]
    }
   ],
   "source": [
    "w=np.array([])\n",
    "w=bhat[0] *s1t+bhat[1]*s2t+bhat[2]*s3t\n",
    "print(\"\\nw\",w)"
   ]
  },
  {
   "cell_type": "code",
   "execution_count": 9,
   "id": "8befa44c",
   "metadata": {},
   "outputs": [],
   "source": [
    "b=np.array(round(w[2]))\n",
    "w=np.array([w[0],w[1]])"
   ]
  },
  {
   "cell_type": "code",
   "execution_count": 10,
   "id": "95da052c",
   "metadata": {},
   "outputs": [
    {
     "name": "stdout",
     "output_type": "stream",
     "text": [
      "Enter x 100\n",
      "Enter y 100\n"
     ]
    }
   ],
   "source": [
    "x=int(input(\"Enter x \"))\n",
    "y=int(input(\"Enter y \"))"
   ]
  },
  {
   "cell_type": "code",
   "execution_count": 11,
   "id": "69b0dde9",
   "metadata": {},
   "outputs": [
    {
     "name": "stdout",
     "output_type": "stream",
     "text": [
      "\n",
      "Res 100\n"
     ]
    }
   ],
   "source": [
    "p=np.array([x,y])\n",
    "res=round(np.dot(w,p))\n",
    "print(\"\\nRes\",res)"
   ]
  },
  {
   "cell_type": "code",
   "execution_count": 12,
   "id": "8dd60fb4",
   "metadata": {},
   "outputs": [
    {
     "name": "stdout",
     "output_type": "stream",
     "text": [
      "\n",
      "Positively Classified\n"
     ]
    }
   ],
   "source": [
    "if(res>b):\n",
    "    print(\"\\nPositively Classified\")\n",
    "elif (res<b):\n",
    "    print(\"\\nNegatively Classified\")"
   ]
  }
 ],
 "metadata": {
  "kernelspec": {
   "display_name": "Python 3 (ipykernel)",
   "language": "python",
   "name": "python3"
  },
  "language_info": {
   "codemirror_mode": {
    "name": "ipython",
    "version": 3
   },
   "file_extension": ".py",
   "mimetype": "text/x-python",
   "name": "python",
   "nbconvert_exporter": "python",
   "pygments_lexer": "ipython3",
   "version": "3.10.6"
  }
 },
 "nbformat": 4,
 "nbformat_minor": 5
}
